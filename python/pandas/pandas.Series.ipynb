{
 "cells": [
  {
   "cell_type": "code",
   "execution_count": 1,
   "metadata": {},
   "outputs": [],
   "source": [
    "import pandas as pd"
   ]
  },
  {
   "cell_type": "code",
   "execution_count": 3,
   "metadata": {},
   "outputs": [
    {
     "data": {
      "text/plain": [
       "0     5000\n",
       "1    30000\n",
       "2    20000\n",
       "3    15000\n",
       "dtype: int64"
      ]
     },
     "execution_count": 3,
     "metadata": {},
     "output_type": "execute_result"
    }
   ],
   "source": [
    "#Series 생성\n",
    "s1 = pd.Series([5000, 30000, 20000, 15000])\n",
    "s1"
   ]
  },
  {
   "cell_type": "code",
   "execution_count": 4,
   "metadata": {},
   "outputs": [
    {
     "data": {
      "text/plain": [
       "2020-12-01     5000\n",
       "2020-12-25    30000\n",
       "2020-12-31    20000\n",
       "2021-01-01    15000\n",
       "dtype: int64"
      ]
     },
     "execution_count": 4,
     "metadata": {},
     "output_type": "execute_result"
    }
   ],
   "source": [
    "#Series 생성 시 index 지정\n",
    "s1 = pd.Series({\n",
    "    '2020-12-01' : 5000,\n",
    "    '2020-12-25' : 30000,\n",
    "    '2020-12-31' : 20000,\n",
    "    '2021-01-01' : 15000\n",
    "})\n",
    "s1"
   ]
  },
  {
   "cell_type": "code",
   "execution_count": 6,
   "metadata": {},
   "outputs": [
    {
     "data": {
      "text/plain": [
       "dates\n",
       "2020-12-01     5000\n",
       "2020-12-25    30000\n",
       "2020-12-31    20000\n",
       "2021-01-01    15000\n",
       "Name: apple, dtype: int64"
      ]
     },
     "execution_count": 6,
     "metadata": {},
     "output_type": "execute_result"
    }
   ],
   "source": [
    "#Series index & names 따로 지정\n",
    "s1.index = ('2020-12-01','2020-12-25','2020-12-31','2021-01-01')\n",
    "s1.index.name = 'dates'\n",
    "s1.name = 'apple'\n",
    "s1"
   ]
  },
  {
   "cell_type": "code",
   "execution_count": 8,
   "metadata": {},
   "outputs": [
    {
     "data": {
      "text/plain": [
       "dates\n",
       "2020-12-01     5000\n",
       "2020-12-25    30000\n",
       "2020-12-31    20000\n",
       "2021-01-01    15000\n",
       "Name: apple, dtype: int64"
      ]
     },
     "execution_count": 8,
     "metadata": {},
     "output_type": "execute_result"
    }
   ],
   "source": [
    "#Series index & names 함께 지정\n",
    "s1 = pd.Series([5000,30000,20000,15000], index = ['2020-12-01','2020-12-25','2020-12-31','2021-01-01'], name = 'apple')\n",
    "s1.index.name = 'dates'\n",
    "s1"
   ]
  },
  {
   "cell_type": "code",
   "execution_count": 9,
   "metadata": {},
   "outputs": [
    {
     "data": {
      "text/plain": [
       "5000"
      ]
     },
     "execution_count": 9,
     "metadata": {},
     "output_type": "execute_result"
    }
   ],
   "source": [
    "#Series 순서 index로 읽기\n",
    "s1[0]"
   ]
  },
  {
   "cell_type": "code",
   "execution_count": 10,
   "metadata": {},
   "outputs": [
    {
     "data": {
      "text/plain": [
       "30000"
      ]
     },
     "execution_count": 10,
     "metadata": {},
     "output_type": "execute_result"
    }
   ],
   "source": [
    "#Series index 이름으로 읽기\n",
    "s1['2020-12-25'] #index가 숫자를 포함하지 않을 때는 s1.index 형태로 호출 가능"
   ]
  },
  {
   "cell_type": "code",
   "execution_count": 15,
   "metadata": {},
   "outputs": [
    {
     "data": {
      "text/plain": [
       "dates\n",
       "2020-12-25    30000\n",
       "2021-01-01    15000\n",
       "Name: apple, dtype: int64"
      ]
     },
     "execution_count": 15,
     "metadata": {},
     "output_type": "execute_result"
    }
   ],
   "source": [
    "#Series index 이름으로 여러 개 읽기\n",
    "s1[['2020-12-25','2021-01-01']]"
   ]
  },
  {
   "cell_type": "code",
   "execution_count": null,
   "metadata": {},
   "outputs": [],
   "source": []
  }
 ],
 "metadata": {
  "kernelspec": {
   "display_name": "Python 3",
   "language": "python",
   "name": "python3"
  },
  "language_info": {
   "codemirror_mode": {
    "name": "ipython",
    "version": 3
   },
   "file_extension": ".py",
   "mimetype": "text/x-python",
   "name": "python",
   "nbconvert_exporter": "python",
   "pygments_lexer": "ipython3",
   "version": "3.7.6"
  }
 },
 "nbformat": 4,
 "nbformat_minor": 4
}
